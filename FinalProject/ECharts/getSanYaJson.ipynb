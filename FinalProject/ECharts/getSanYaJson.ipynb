{
 "metadata": {
  "language_info": {
   "codemirror_mode": {
    "name": "ipython",
    "version": 3
   },
   "file_extension": ".py",
   "mimetype": "text/x-python",
   "name": "python",
   "nbconvert_exporter": "python",
   "pygments_lexer": "ipython3",
   "version": "3.8.5"
  },
  "orig_nbformat": 2,
  "kernelspec": {
   "name": "python385jvsc74a57bd0e5a7b0c85290c13f0d09c1e8aca250bf513662c315bff124d1b780df1f3ee066",
   "display_name": "Python 3.8.5 64-bit (conda)"
  }
 },
 "nbformat": 4,
 "nbformat_minor": 2,
 "cells": [
  {
   "cell_type": "code",
   "execution_count": 81,
   "metadata": {},
   "outputs": [],
   "source": [
    "#这个文件的目的是提取三亚的前六个维度数据，并按指定的格式输出为json\n",
    "#导入相关库\n",
    "import numpy as np\n",
    "import pandas as pd\n",
    "import json"
   ]
  },
  {
   "cell_type": "code",
   "execution_count": 74,
   "metadata": {},
   "outputs": [],
   "source": [
    "#提取三亚\n",
    "fileName = 'city_features.csv'\n",
    "totalData = pd.read_csv(fileName)\n",
    "syData = totalData[0:1]\n",
    "syData = syData.drop(labels='Unnamed: 0', axis = 1)"
   ]
  },
  {
   "cell_type": "code",
   "execution_count": 75,
   "metadata": {},
   "outputs": [],
   "source": [
    "syJson = pd.DataFrame(columns=['pollution_type', 'date', 'relative_value'])"
   ]
  },
  {
   "cell_type": "code",
   "execution_count": 78,
   "metadata": {},
   "outputs": [],
   "source": [
    "#单位都是微克/立方米\n",
    "pollution_type = [\"PM2.5\", \"O3\", \"PM10\", \"SO2\", \"NO2\", \"CO\"]\n",
    "f = open(\"syData.json\", \"a+\")\n",
    "f.write('[[\"pollution_type\",\"date\",\"relative_value\"]')\n",
    "#开始写入syJson\n",
    "for i in range(syData.shape[1]):\n",
    "    tmp_list = json.loads(syData[syData.columns[i]][0])\n",
    "    for j in range(len(pollution_type)):\n",
    "        tmp_str = str([pollution_type[j],i,tmp_list[j]]).replace(\"'\",\"\\\"\")\n",
    "        #写入\n",
    "        f.write(','+tmp_str)\n",
    "f.write(']')\n",
    "f.close()"
   ]
  },
  {
   "cell_type": "code",
   "execution_count": 86,
   "metadata": {},
   "outputs": [],
   "source": [
    "#写入csv中，列为污染物名，行为天数date\n",
    "syCSV = pd.DataFrame(columns=[\"PM2.5\", \"O3\", \"PM10\", \"SO2\", \"NO2\", \"CO\"])\n",
    "for i in range(syData.shape[1]):\n",
    "    #i表示天数\n",
    "    tmp_list = json.loads(syData[syData.columns[i]][0])\n",
    "    tmp_dict = {}\n",
    "    for j in range(len(pollution_type)):\n",
    "        #第j种污染物\n",
    "        tmp_dict[pollution_type[j]] = tmp_list[j]\n",
    "    syCSV = syCSV.append(tmp_dict, ignore_index=True)\n",
    "syCSV.to_csv('syData.csv', index=False)"
   ]
  },
  {
   "cell_type": "code",
   "execution_count": 82,
   "metadata": {},
   "outputs": [
    {
     "output_type": "execute_result",
     "data": {
      "text/plain": [
       "2191"
      ]
     },
     "metadata": {},
     "execution_count": 82
    }
   ],
   "source": [
    "syData.shape[1]"
   ]
  },
  {
   "cell_type": "code",
   "execution_count": null,
   "metadata": {},
   "outputs": [],
   "source": []
  }
 ]
}