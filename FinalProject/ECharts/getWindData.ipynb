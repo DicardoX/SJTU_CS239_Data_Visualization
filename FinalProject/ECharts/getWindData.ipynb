{
 "metadata": {
  "language_info": {
   "codemirror_mode": {
    "name": "ipython",
    "version": 3
   },
   "file_extension": ".py",
   "mimetype": "text/x-python",
   "name": "python",
   "nbconvert_exporter": "python",
   "pygments_lexer": "ipython3",
   "version": "3.8.5"
  },
  "orig_nbformat": 2,
  "kernelspec": {
   "name": "python385jvsc74a57bd0e5a7b0c85290c13f0d09c1e8aca250bf513662c315bff124d1b780df1f3ee066",
   "display_name": "Python 3.8.5 64-bit ('base': conda)"
  }
 },
 "nbformat": 4,
 "nbformat_minor": 2,
 "cells": [
  {
   "cell_type": "code",
   "execution_count": 1,
   "metadata": {},
   "outputs": [],
   "source": [
    "#这个脚本希望将三亚历年的风向数据转换为风向风速数据\n",
    "import numpy as np\n",
    "import pandas as pd\n",
    "import json"
   ]
  },
  {
   "cell_type": "code",
   "execution_count": 19,
   "metadata": {},
   "outputs": [],
   "source": [
    "#提取三亚\n",
    "fileName = 'city_features.csv'\n",
    "totalData = pd.read_csv(fileName)\n",
    "syData = totalData[0:1]\n",
    "syData = syData.drop(labels='Unnamed: 0', axis = 1)"
   ]
  },
  {
   "cell_type": "code",
   "execution_count": 20,
   "metadata": {},
   "outputs": [],
   "source": [
    "#写入csv中，列为污染物名，行为天数date\n",
    "windType = ['U','V']\n",
    "syWindData = pd.DataFrame(columns=['U','V'])\n",
    "for i in range(syData.shape[1]):\n",
    "    #i表示天数\n",
    "    tmp_list = json.loads(syData[syData.columns[i]][0])\n",
    "    tmp_dict = {}\n",
    "    for j in range(len(windType)):\n",
    "        #第j种污染物\n",
    "        tmp_dict[windType[j]] = tmp_list[j+6]\n",
    "    syWindData = syWindData.append(tmp_dict, ignore_index=True)"
   ]
  },
  {
   "cell_type": "code",
   "execution_count": 35,
   "metadata": {},
   "outputs": [],
   "source": [
    "#编写一个函数根据其绝对值确定风力级别\n",
    "#为方便，没有严格按照标准细分\n",
    "#0~2为0级，3~4为1级，5~6为2级，7及以上为3级\n",
    "#依数据分布情况，可能有所改变\n",
    "def getWindDegree(windSpeed):\n",
    "    windSpeed = abs(windSpeed)\n",
    "    if(windSpeed < 3.4):\n",
    "        return 0\n",
    "    if(windSpeed < 8.0):\n",
    "        return 1\n",
    "    return 2\n",
    "    \n",
    "#从U，V得到这个风是哪个方向，u是纬向，v是经向\n",
    "#先返回纬向，再返回经向\n",
    "def getWindDirec(u, v):\n",
    "    if u>=0 and v>=0:\n",
    "        return ['E', 'N', 'NE']\n",
    "    if u>=0 and v<0:\n",
    "        return ['E', 'S', 'SE']\n",
    "    if u<0 and v>=0:\n",
    "        return ['W', 'N', 'NW']\n",
    "    if u<0 and v<0:\n",
    "        return ['W', 'S', 'SW']  "
   ]
  },
  {
   "cell_type": "code",
   "execution_count": 36,
   "metadata": {},
   "outputs": [],
   "source": [
    "#数据是得到了，但是怎样确定风向风速的计算方式？\n",
    "#我觉得粗略一点也没有关系\n",
    "#不管了，默认正值表示西风，即从西向东，或者南风，即从南向北的风力大小\n",
    "syWindFre = pd.DataFrame(columns=['N', 'NE', 'E', 'SE', 'S', 'SW', 'W', 'NW'])\n",
    "tmpDict = {\n",
    "    'N': 0,\n",
    "    'NE': 0,\n",
    "    'E': 0,\n",
    "    'SE': 0,\n",
    "    'S': 0,\n",
    "    'SW': 0,\n",
    "    'W': 0,\n",
    "    'NW': 0\n",
    "}\n",
    "for i in range(3):\n",
    "    syWindFre = syWindFre.append(tmpDict,ignore_index=True)"
   ]
  },
  {
   "cell_type": "code",
   "execution_count": 37,
   "metadata": {},
   "outputs": [],
   "source": [
    "#接下来进行计数频率的统计，U纬向，V经向\n",
    "for i in range(len(syWindData)):\n",
    "    u = syWindData['U'][i]\n",
    "    v = syWindData['V'][i]\n",
    "    direcs = getWindDirec(u,v)\n",
    "    #开始计数\n",
    "    u = abs(u)\n",
    "    v = abs(v)\n",
    "    middleSpeed = (u+v)*pow(0.5, 0.5)\n",
    "    speeds = [u,v,middleSpeed]\n",
    "    for j in range(3):\n",
    "        tmpDirec = direcs[j]\n",
    "        tmpSpeed = speeds[j]\n",
    "        tmpDegree = getWindDegree(tmpSpeed)\n",
    "        syWindFre[tmpDirec][tmpDegree] = syWindFre[tmpDirec][tmpDegree] + 1"
   ]
  },
  {
   "cell_type": "code",
   "execution_count": 39,
   "metadata": {},
   "outputs": [],
   "source": [
    "syWindFre.to_csv('syWindPre.csv', index=False)"
   ]
  },
  {
   "cell_type": "code",
   "execution_count": 32,
   "metadata": {},
   "outputs": [
    {
     "output_type": "execute_result",
     "data": {
      "text/plain": [
       "0.7071067811865476"
      ]
     },
     "metadata": {},
     "execution_count": 32
    }
   ],
   "source": [
    "744\t151\t282\t47\t638\t187\t702\t308"
   ]
  },
  {
   "cell_type": "code",
   "execution_count": null,
   "metadata": {},
   "outputs": [],
   "source": []
  }
 ]
}