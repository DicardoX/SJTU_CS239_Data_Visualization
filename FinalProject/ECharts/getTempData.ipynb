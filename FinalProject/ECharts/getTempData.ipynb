{
 "metadata": {
  "language_info": {
   "codemirror_mode": {
    "name": "ipython",
    "version": 3
   },
   "file_extension": ".py",
   "mimetype": "text/x-python",
   "name": "python",
   "nbconvert_exporter": "python",
   "pygments_lexer": "ipython3",
   "version": "3.8.5"
  },
  "orig_nbformat": 2,
  "kernelspec": {
   "name": "python385jvsc74a57bd0e5a7b0c85290c13f0d09c1e8aca250bf513662c315bff124d1b780df1f3ee066",
   "display_name": "Python 3.8.5 64-bit ('base': conda)"
  }
 },
 "nbformat": 4,
 "nbformat_minor": 2,
 "cells": [
  {
   "cell_type": "code",
   "execution_count": 1,
   "metadata": {},
   "outputs": [],
   "source": [
    "#获取了一年的温度来做折线\n",
    "import numpy as np\n",
    "import pandas as pd\n",
    "import json\n",
    "fileName = 'city_features.csv'\n",
    "totalData = pd.read_csv(fileName)\n",
    "syData = totalData[0:1]\n",
    "syData = syData.drop(labels='Unnamed: 0', axis = 1)"
   ]
  },
  {
   "cell_type": "code",
   "execution_count": 15,
   "metadata": {},
   "outputs": [],
   "source": [
    "#写入csv中，列为污染物名，行为天数date\n",
    "syTempData = pd.DataFrame(columns=['Temperature'])\n",
    "#for i in range(syData.shape[1]):\n",
    "for i in range(1,366):\n",
    "    #i表示天数\n",
    "    tmp_list = json.loads(syData[syData.columns[i]][0])\n",
    "    tmp_dict = {}\n",
    "    tmp_dict['Temperature'] = tmp_list[8] - 273.15\n",
    "    tmp_dict['Temperature'] = round(tmp_dict['Temperature'], 2)\n",
    "    syTempData = syTempData.append(tmp_dict, ignore_index=True)"
   ]
  },
  {
   "cell_type": "code",
   "execution_count": 16,
   "metadata": {},
   "outputs": [],
   "source": [
    "syTempData.to_csv('syTempData.csv', index=False)"
   ]
  },
  {
   "cell_type": "code",
   "execution_count": 19,
   "metadata": {},
   "outputs": [
    {
     "output_type": "execute_result",
     "data": {
      "text/plain": [
       "Temperature    13.62\n",
       "dtype: float64"
      ]
     },
     "metadata": {},
     "execution_count": 19
    }
   ],
   "source": [
    "syTempData.min()"
   ]
  },
  {
   "cell_type": "code",
   "execution_count": null,
   "metadata": {},
   "outputs": [],
   "source": []
  }
 ]
}